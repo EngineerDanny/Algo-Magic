{
 "cells": [
  {
   "cell_type": "code",
   "execution_count": 6,
   "metadata": {},
   "outputs": [
    {
     "name": "stdout",
     "output_type": "stream",
     "text": [
      "[0.001, 0.1, 1, 2, 78, 90, 324, 567]\n"
     ]
    }
   ],
   "source": [
    "\"\"\" \n",
    "`Insertion sort`\n",
    "Time complexity : O(n^2)\n",
    "Space complexity: O(1)\n",
    "\"\"\"\n",
    "\n",
    "def insertion_sort(my_array):\n",
    "  # Get the length of the array\n",
    "  n = len(my_array)\n",
    "  # Loop through the array from index 1 to n-1\n",
    "  for i in range(1, n):\n",
    "    # Store the current element in a variable\n",
    "    key = my_array[i]\n",
    "    # Initialize sorted previous variable index\n",
    "    j = i-1\n",
    "    # Loop through the array from index j to 0 in reverse order\n",
    "    while j >= 0 and my_array[j] > key:\n",
    "      # Shift the element at index j to the right by one position\n",
    "      my_array[j+1] = my_array[j]\n",
    "      # Decrement j by one\n",
    "      j -= 1\n",
    "    # Insert the key element at the correct position\n",
    "    my_array[j+1] = key\n",
    "  # Return the sorted array\n",
    "  return my_array\n",
    "\n",
    "# Test the function with an example array\n",
    "array = [5, 3, 2, 4, 1]\n",
    "\n",
    "print(insertion_sort([1,324,2,567,78,90,0.001, 0.1]))\n"
   ]
  }
 ],
 "metadata": {
  "kernelspec": {
   "display_name": "cs499f22",
   "language": "python",
   "name": "python3"
  },
  "language_info": {
   "codemirror_mode": {
    "name": "ipython",
    "version": 3
   },
   "file_extension": ".py",
   "mimetype": "text/x-python",
   "name": "python",
   "nbconvert_exporter": "python",
   "pygments_lexer": "ipython3",
   "version": "3.9.12"
  },
  "orig_nbformat": 4
 },
 "nbformat": 4,
 "nbformat_minor": 2
}
