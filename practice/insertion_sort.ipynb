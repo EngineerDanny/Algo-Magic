{
 "cells": [
  {
   "cell_type": "code",
   "execution_count": 11,
   "metadata": {},
   "outputs": [
    {
     "name": "stdout",
     "output_type": "stream",
     "text": [
      "[1, 3, 6, 7, 83, 435]\n"
     ]
    }
   ],
   "source": [
    "\"\"\" \n",
    "Implement insertion sort algorithm\n",
    "\"\"\"\n",
    "def insertion_sort(my_array):\n",
    "    n = len(my_array)\n",
    "    for i in range(1, n):\n",
    "        key = my_array[i]\n",
    "        j = i - 1\n",
    "        while j>=0 and my_array[j]>key:\n",
    "            my_array[j+1] = my_array[j]\n",
    "            j-=1\n",
    "        my_array[j+1] = key\n",
    "    return my_array\n",
    "\n",
    "print(insertion_sort([1,435,6,7,83,3]))\n"
   ]
  },
  {
   "cell_type": "code",
   "execution_count": null,
   "metadata": {},
   "outputs": [],
   "source": [
    "\"\"\" \n",
    "What is the best case, average case, and worst case time complexity \n",
    "of insertion sort algorithm? Explain why.\n",
    "\n",
    "Best case : O(n)\n",
    "Average case: O(n^2)\n",
    "Best case: O(n^2)\n",
    "\n",
    "\"\"\""
   ]
  }
 ],
 "metadata": {
  "kernelspec": {
   "display_name": "cs499f22",
   "language": "python",
   "name": "python3"
  },
  "language_info": {
   "codemirror_mode": {
    "name": "ipython",
    "version": 3
   },
   "file_extension": ".py",
   "mimetype": "text/x-python",
   "name": "python",
   "nbconvert_exporter": "python",
   "pygments_lexer": "ipython3",
   "version": "3.9.12"
  },
  "orig_nbformat": 4
 },
 "nbformat": 4,
 "nbformat_minor": 2
}
